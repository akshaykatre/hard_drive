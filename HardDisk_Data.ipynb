{
 "cells": [
  {
   "cell_type": "markdown",
   "metadata": {},
   "source": [
    "## Hard Drive Data\n",
    "\n",
    "This is an early exploration on the hard drive \n",
    "dataset \n",
    "\n"
   ]
  },
  {
   "cell_type": "code",
   "execution_count": 2,
   "metadata": {},
   "outputs": [],
   "source": [
    "## Import the libraries \n",
    "import pandas as pd \n",
    "import numpy as np \n",
    "from matplotlib import pyplot as plt \n",
    "\n",
    "%matplotlib inline "
   ]
  },
  {
   "cell_type": "code",
   "execution_count": 3,
   "metadata": {},
   "outputs": [],
   "source": [
    "data = pd.read_csv(\"data/harddrive.csv\")"
   ]
  },
  {
   "cell_type": "code",
   "execution_count": 4,
   "metadata": {},
   "outputs": [
    {
     "data": {
      "text/html": [
       "<div>\n",
       "<style scoped>\n",
       "    .dataframe tbody tr th:only-of-type {\n",
       "        vertical-align: middle;\n",
       "    }\n",
       "\n",
       "    .dataframe tbody tr th {\n",
       "        vertical-align: top;\n",
       "    }\n",
       "\n",
       "    .dataframe thead th {\n",
       "        text-align: right;\n",
       "    }\n",
       "</style>\n",
       "<table border=\"1\" class=\"dataframe\">\n",
       "  <thead>\n",
       "    <tr style=\"text-align: right;\">\n",
       "      <th></th>\n",
       "      <th>date</th>\n",
       "      <th>serial_number</th>\n",
       "      <th>model</th>\n",
       "      <th>capacity_bytes</th>\n",
       "      <th>failure</th>\n",
       "      <th>smart_1_normalized</th>\n",
       "      <th>smart_1_raw</th>\n",
       "      <th>smart_2_normalized</th>\n",
       "      <th>smart_2_raw</th>\n",
       "      <th>smart_3_normalized</th>\n",
       "      <th>...</th>\n",
       "      <th>smart_250_normalized</th>\n",
       "      <th>smart_250_raw</th>\n",
       "      <th>smart_251_normalized</th>\n",
       "      <th>smart_251_raw</th>\n",
       "      <th>smart_252_normalized</th>\n",
       "      <th>smart_252_raw</th>\n",
       "      <th>smart_254_normalized</th>\n",
       "      <th>smart_254_raw</th>\n",
       "      <th>smart_255_normalized</th>\n",
       "      <th>smart_255_raw</th>\n",
       "    </tr>\n",
       "  </thead>\n",
       "  <tbody>\n",
       "    <tr>\n",
       "      <th>0</th>\n",
       "      <td>2016-01-01</td>\n",
       "      <td>MJ0351YNG9Z0XA</td>\n",
       "      <td>Hitachi HDS5C3030ALA630</td>\n",
       "      <td>1.482490e-311</td>\n",
       "      <td>0</td>\n",
       "      <td>100</td>\n",
       "      <td>0</td>\n",
       "      <td>135.0</td>\n",
       "      <td>108.0</td>\n",
       "      <td>143</td>\n",
       "      <td>...</td>\n",
       "      <td>NaN</td>\n",
       "      <td>NaN</td>\n",
       "      <td>NaN</td>\n",
       "      <td>NaN</td>\n",
       "      <td>NaN</td>\n",
       "      <td>NaN</td>\n",
       "      <td>NaN</td>\n",
       "      <td>NaN</td>\n",
       "      <td>NaN</td>\n",
       "      <td>NaN</td>\n",
       "    </tr>\n",
       "    <tr>\n",
       "      <th>1</th>\n",
       "      <td>2016-01-01</td>\n",
       "      <td>Z305B2QN</td>\n",
       "      <td>ST4000DM000</td>\n",
       "      <td>1.976651e-311</td>\n",
       "      <td>0</td>\n",
       "      <td>113</td>\n",
       "      <td>54551400</td>\n",
       "      <td>NaN</td>\n",
       "      <td>NaN</td>\n",
       "      <td>96</td>\n",
       "      <td>...</td>\n",
       "      <td>NaN</td>\n",
       "      <td>NaN</td>\n",
       "      <td>NaN</td>\n",
       "      <td>NaN</td>\n",
       "      <td>NaN</td>\n",
       "      <td>NaN</td>\n",
       "      <td>NaN</td>\n",
       "      <td>NaN</td>\n",
       "      <td>NaN</td>\n",
       "      <td>NaN</td>\n",
       "    </tr>\n",
       "    <tr>\n",
       "      <th>2</th>\n",
       "      <td>2016-01-01</td>\n",
       "      <td>MJ0351YNG9Z7LA</td>\n",
       "      <td>Hitachi HDS5C3030ALA630</td>\n",
       "      <td>1.482490e-311</td>\n",
       "      <td>0</td>\n",
       "      <td>100</td>\n",
       "      <td>0</td>\n",
       "      <td>136.0</td>\n",
       "      <td>104.0</td>\n",
       "      <td>124</td>\n",
       "      <td>...</td>\n",
       "      <td>NaN</td>\n",
       "      <td>NaN</td>\n",
       "      <td>NaN</td>\n",
       "      <td>NaN</td>\n",
       "      <td>NaN</td>\n",
       "      <td>NaN</td>\n",
       "      <td>NaN</td>\n",
       "      <td>NaN</td>\n",
       "      <td>NaN</td>\n",
       "      <td>NaN</td>\n",
       "    </tr>\n",
       "    <tr>\n",
       "      <th>3</th>\n",
       "      <td>2016-01-01</td>\n",
       "      <td>MJ0351YNGABYAA</td>\n",
       "      <td>Hitachi HDS5C3030ALA630</td>\n",
       "      <td>1.482490e-311</td>\n",
       "      <td>0</td>\n",
       "      <td>100</td>\n",
       "      <td>0</td>\n",
       "      <td>136.0</td>\n",
       "      <td>104.0</td>\n",
       "      <td>137</td>\n",
       "      <td>...</td>\n",
       "      <td>NaN</td>\n",
       "      <td>NaN</td>\n",
       "      <td>NaN</td>\n",
       "      <td>NaN</td>\n",
       "      <td>NaN</td>\n",
       "      <td>NaN</td>\n",
       "      <td>NaN</td>\n",
       "      <td>NaN</td>\n",
       "      <td>NaN</td>\n",
       "      <td>NaN</td>\n",
       "    </tr>\n",
       "    <tr>\n",
       "      <th>4</th>\n",
       "      <td>2016-01-01</td>\n",
       "      <td>WD-WMC4N2899475</td>\n",
       "      <td>WDC WD30EFRX</td>\n",
       "      <td>1.482490e-311</td>\n",
       "      <td>0</td>\n",
       "      <td>200</td>\n",
       "      <td>0</td>\n",
       "      <td>NaN</td>\n",
       "      <td>NaN</td>\n",
       "      <td>175</td>\n",
       "      <td>...</td>\n",
       "      <td>NaN</td>\n",
       "      <td>NaN</td>\n",
       "      <td>NaN</td>\n",
       "      <td>NaN</td>\n",
       "      <td>NaN</td>\n",
       "      <td>NaN</td>\n",
       "      <td>NaN</td>\n",
       "      <td>NaN</td>\n",
       "      <td>NaN</td>\n",
       "      <td>NaN</td>\n",
       "    </tr>\n",
       "    <tr>\n",
       "      <th>5</th>\n",
       "      <td>2016-01-01</td>\n",
       "      <td>PL1321LAG34XWH</td>\n",
       "      <td>Hitachi HDS5C4040ALE630</td>\n",
       "      <td>1.976651e-311</td>\n",
       "      <td>0</td>\n",
       "      <td>100</td>\n",
       "      <td>0</td>\n",
       "      <td>134.0</td>\n",
       "      <td>101.0</td>\n",
       "      <td>131</td>\n",
       "      <td>...</td>\n",
       "      <td>NaN</td>\n",
       "      <td>NaN</td>\n",
       "      <td>NaN</td>\n",
       "      <td>NaN</td>\n",
       "      <td>NaN</td>\n",
       "      <td>NaN</td>\n",
       "      <td>NaN</td>\n",
       "      <td>NaN</td>\n",
       "      <td>NaN</td>\n",
       "      <td>NaN</td>\n",
       "    </tr>\n",
       "    <tr>\n",
       "      <th>6</th>\n",
       "      <td>2016-01-01</td>\n",
       "      <td>MJ1323YNG1TJ7C</td>\n",
       "      <td>Hitachi HDS5C3030ALA630</td>\n",
       "      <td>1.482490e-311</td>\n",
       "      <td>0</td>\n",
       "      <td>100</td>\n",
       "      <td>0</td>\n",
       "      <td>100.0</td>\n",
       "      <td>0.0</td>\n",
       "      <td>122</td>\n",
       "      <td>...</td>\n",
       "      <td>NaN</td>\n",
       "      <td>NaN</td>\n",
       "      <td>NaN</td>\n",
       "      <td>NaN</td>\n",
       "      <td>NaN</td>\n",
       "      <td>NaN</td>\n",
       "      <td>NaN</td>\n",
       "      <td>NaN</td>\n",
       "      <td>NaN</td>\n",
       "      <td>NaN</td>\n",
       "    </tr>\n",
       "    <tr>\n",
       "      <th>7</th>\n",
       "      <td>2016-01-01</td>\n",
       "      <td>S300Z6K9</td>\n",
       "      <td>ST4000DM000</td>\n",
       "      <td>1.976651e-311</td>\n",
       "      <td>0</td>\n",
       "      <td>107</td>\n",
       "      <td>13985080</td>\n",
       "      <td>NaN</td>\n",
       "      <td>NaN</td>\n",
       "      <td>97</td>\n",
       "      <td>...</td>\n",
       "      <td>NaN</td>\n",
       "      <td>NaN</td>\n",
       "      <td>NaN</td>\n",
       "      <td>NaN</td>\n",
       "      <td>NaN</td>\n",
       "      <td>NaN</td>\n",
       "      <td>NaN</td>\n",
       "      <td>NaN</td>\n",
       "      <td>NaN</td>\n",
       "      <td>NaN</td>\n",
       "    </tr>\n",
       "    <tr>\n",
       "      <th>8</th>\n",
       "      <td>2016-01-01</td>\n",
       "      <td>S300Z6K8</td>\n",
       "      <td>ST4000DM000</td>\n",
       "      <td>1.976651e-311</td>\n",
       "      <td>0</td>\n",
       "      <td>116</td>\n",
       "      <td>109242152</td>\n",
       "      <td>NaN</td>\n",
       "      <td>NaN</td>\n",
       "      <td>97</td>\n",
       "      <td>...</td>\n",
       "      <td>NaN</td>\n",
       "      <td>NaN</td>\n",
       "      <td>NaN</td>\n",
       "      <td>NaN</td>\n",
       "      <td>NaN</td>\n",
       "      <td>NaN</td>\n",
       "      <td>NaN</td>\n",
       "      <td>NaN</td>\n",
       "      <td>NaN</td>\n",
       "      <td>NaN</td>\n",
       "    </tr>\n",
       "    <tr>\n",
       "      <th>9</th>\n",
       "      <td>2016-01-01</td>\n",
       "      <td>Z302PGH8</td>\n",
       "      <td>ST4000DM000</td>\n",
       "      <td>1.976651e-311</td>\n",
       "      <td>0</td>\n",
       "      <td>112</td>\n",
       "      <td>46112000</td>\n",
       "      <td>NaN</td>\n",
       "      <td>NaN</td>\n",
       "      <td>92</td>\n",
       "      <td>...</td>\n",
       "      <td>NaN</td>\n",
       "      <td>NaN</td>\n",
       "      <td>NaN</td>\n",
       "      <td>NaN</td>\n",
       "      <td>NaN</td>\n",
       "      <td>NaN</td>\n",
       "      <td>NaN</td>\n",
       "      <td>NaN</td>\n",
       "      <td>NaN</td>\n",
       "      <td>NaN</td>\n",
       "    </tr>\n",
       "  </tbody>\n",
       "</table>\n",
       "<p>10 rows × 95 columns</p>\n",
       "</div>"
      ],
      "text/plain": [
       "         date    serial_number                    model  capacity_bytes  \\\n",
       "0  2016-01-01   MJ0351YNG9Z0XA  Hitachi HDS5C3030ALA630   1.482490e-311   \n",
       "1  2016-01-01         Z305B2QN              ST4000DM000   1.976651e-311   \n",
       "2  2016-01-01   MJ0351YNG9Z7LA  Hitachi HDS5C3030ALA630   1.482490e-311   \n",
       "3  2016-01-01   MJ0351YNGABYAA  Hitachi HDS5C3030ALA630   1.482490e-311   \n",
       "4  2016-01-01  WD-WMC4N2899475             WDC WD30EFRX   1.482490e-311   \n",
       "5  2016-01-01   PL1321LAG34XWH  Hitachi HDS5C4040ALE630   1.976651e-311   \n",
       "6  2016-01-01   MJ1323YNG1TJ7C  Hitachi HDS5C3030ALA630   1.482490e-311   \n",
       "7  2016-01-01         S300Z6K9              ST4000DM000   1.976651e-311   \n",
       "8  2016-01-01         S300Z6K8              ST4000DM000   1.976651e-311   \n",
       "9  2016-01-01         Z302PGH8              ST4000DM000   1.976651e-311   \n",
       "\n",
       "   failure  smart_1_normalized  smart_1_raw  smart_2_normalized  smart_2_raw  \\\n",
       "0        0                 100            0               135.0        108.0   \n",
       "1        0                 113     54551400                 NaN          NaN   \n",
       "2        0                 100            0               136.0        104.0   \n",
       "3        0                 100            0               136.0        104.0   \n",
       "4        0                 200            0                 NaN          NaN   \n",
       "5        0                 100            0               134.0        101.0   \n",
       "6        0                 100            0               100.0          0.0   \n",
       "7        0                 107     13985080                 NaN          NaN   \n",
       "8        0                 116    109242152                 NaN          NaN   \n",
       "9        0                 112     46112000                 NaN          NaN   \n",
       "\n",
       "   smart_3_normalized      ...        smart_250_normalized  smart_250_raw  \\\n",
       "0                 143      ...                         NaN            NaN   \n",
       "1                  96      ...                         NaN            NaN   \n",
       "2                 124      ...                         NaN            NaN   \n",
       "3                 137      ...                         NaN            NaN   \n",
       "4                 175      ...                         NaN            NaN   \n",
       "5                 131      ...                         NaN            NaN   \n",
       "6                 122      ...                         NaN            NaN   \n",
       "7                  97      ...                         NaN            NaN   \n",
       "8                  97      ...                         NaN            NaN   \n",
       "9                  92      ...                         NaN            NaN   \n",
       "\n",
       "   smart_251_normalized  smart_251_raw  smart_252_normalized  smart_252_raw  \\\n",
       "0                   NaN            NaN                   NaN            NaN   \n",
       "1                   NaN            NaN                   NaN            NaN   \n",
       "2                   NaN            NaN                   NaN            NaN   \n",
       "3                   NaN            NaN                   NaN            NaN   \n",
       "4                   NaN            NaN                   NaN            NaN   \n",
       "5                   NaN            NaN                   NaN            NaN   \n",
       "6                   NaN            NaN                   NaN            NaN   \n",
       "7                   NaN            NaN                   NaN            NaN   \n",
       "8                   NaN            NaN                   NaN            NaN   \n",
       "9                   NaN            NaN                   NaN            NaN   \n",
       "\n",
       "   smart_254_normalized  smart_254_raw  smart_255_normalized  smart_255_raw  \n",
       "0                   NaN            NaN                   NaN            NaN  \n",
       "1                   NaN            NaN                   NaN            NaN  \n",
       "2                   NaN            NaN                   NaN            NaN  \n",
       "3                   NaN            NaN                   NaN            NaN  \n",
       "4                   NaN            NaN                   NaN            NaN  \n",
       "5                   NaN            NaN                   NaN            NaN  \n",
       "6                   NaN            NaN                   NaN            NaN  \n",
       "7                   NaN            NaN                   NaN            NaN  \n",
       "8                   NaN            NaN                   NaN            NaN  \n",
       "9                   NaN            NaN                   NaN            NaN  \n",
       "\n",
       "[10 rows x 95 columns]"
      ]
     },
     "execution_count": 4,
     "metadata": {},
     "output_type": "execute_result"
    }
   ],
   "source": [
    "data.head(10)"
   ]
  },
  {
   "cell_type": "code",
   "execution_count": 5,
   "metadata": {},
   "outputs": [
    {
     "data": {
      "text/plain": [
       "0    3179080\n",
       "1        215\n",
       "Name: failure, dtype: int64"
      ]
     },
     "execution_count": 5,
     "metadata": {},
     "output_type": "execute_result"
    }
   ],
   "source": [
    "## The number of failures\n",
    "data.failure.value_counts()"
   ]
  },
  {
   "cell_type": "markdown",
   "metadata": {},
   "source": [
    "There are too few failures - only 215 overall. \n",
    "Lets try and see how many failures there are per model "
   ]
  },
  {
   "cell_type": "code",
   "execution_count": 6,
   "metadata": {},
   "outputs": [
    {
     "name": "stdout",
     "output_type": "stream",
     "text": [
      "The model,  Hitachi HDS5C3030ALA630  has  5  failures\n",
      "The model,  ST4000DM000  has  139  failures\n",
      "The model,  WDC WD30EFRX  has  6  failures\n",
      "The model,  Hitachi HDS5C4040ALE630  has  4  failures\n",
      "The model,  HGST HMS5C4040ALE640  has  2  failures\n",
      "The model,  HGST HMS5C4040BLE640  has  1  failures\n",
      "The model,  ST6000DX000  has  2  failures\n",
      "The model,  Hitachi HDS723030ALA640  has no failures\n",
      "The model,  Hitachi HDS722020ALA330  has  13  failures\n",
      "The model,  ST31500541AS  has no failures\n",
      "The model,  ST4000DX000  has  2  failures\n",
      "The model,  WDC WD60EFRX  has  1  failures\n",
      "The model,  WDC WD5000LPVX  has no failures\n",
      "The model,  HGST HUH728080ALE600  has no failures\n",
      "The model,  WDC WD1600AAJS  has  2  failures\n",
      "The model,  ST320LT007  has  15  failures\n",
      "The model,  ST500LM012 HN  has no failures\n",
      "The model,  TOSHIBA MD04ABA500V  has  1  failures\n",
      "The model,  ST9320325AS  has no failures\n",
      "The model,  TOSHIBA MD04ABA400V  has no failures\n",
      "The model,  TOSHIBA DT01ACA300  has  1  failures\n",
      "The model,  HGST HDS724040ALE640  has no failures\n",
      "The model,  ST3160318AS  has  2  failures\n",
      "The model,  WDC WD20EFRX  has  3  failures\n",
      "The model,  ST9250315AS  has  1  failures\n",
      "The model,  ST3160316AS  has  1  failures\n",
      "The model,  Hitachi HDS724040ALE640  has no failures\n",
      "The model,  Hitachi HDS723020BLA642  has no failures\n",
      "The model,  HGST HDS5C4040ALE630  has no failures\n",
      "The model,  ST2000VN000  has no failures\n",
      "The model,  WDC WD3200AAJB  has no failures\n",
      "The model,  WDC WD40EFRX  has no failures\n",
      "The model,  WDC WD800AAJS  has  6  failures\n",
      "The model,  WDC WD3200BEKX  has  1  failures\n",
      "The model,  WDC WD800JB  has no failures\n",
      "The model,  WDC WD5000BPKT  has no failures\n",
      "The model,  ST250LM004 HN  has no failures\n",
      "The model,  Hitachi HDT725025VLA380  has no failures\n",
      "The model,  WDC WD1600AAJB  has  2  failures\n",
      "The model,  Hitachi HDS723030BLE640  has no failures\n",
      "The model,  WDC WD800AAJB  has  1  failures\n",
      "The model,  WDC WD800LB  has no failures\n",
      "The model,  Hitachi HDS5C3030BLE630  has no failures\n",
      "The model,  WDC WD3200BEKT  has  1  failures\n",
      "The model,  WDC WD5002ABYS  has no failures\n",
      "The model,  ST250LT007  has no failures\n",
      "The model,  WDC WD2500AAJS  has no failures\n",
      "The model,  WDC WD800BB  has  1  failures\n",
      "The model,  WDC WD2500BEVT  has no failures\n",
      "The model,  WDC WD2500BPVT  has no failures\n",
      "The model,  WDC WD5003ABYX  has no failures\n",
      "The model,  WDC WD2500AAJB  has no failures\n",
      "The model,  WDC WD3200LPVX  has no failures\n",
      "The model,  ST31500341AS  has no failures\n",
      "The model,  WDC WD3200AAJS  has no failures\n",
      "The model,  WDC WD3200AAKS  has no failures\n",
      "The model,  WDC WD800JD  has no failures\n",
      "The model,  SAMSUNG HD154UI  has no failures\n",
      "The model,  ST3500320AS  has no failures\n",
      "The model,  WDC WD1600BPVT  has no failures\n",
      "The model,  WDC WD10EADS  has  2  failures\n",
      "The model,  WDC WD10EACS  has no failures\n",
      "The model,  WDC WD10EARS  has no failures\n",
      "The model,  WDC WD10EADX  has no failures\n",
      "The model,  WDC WD10EARX  has no failures\n",
      "The model,  ST4000DX002  has no failures\n",
      "The model,  WDC WD10EALS  has no failures\n",
      "The model,  WDC WD1001FALS  has no failures\n",
      "The model,  WDC WD15EARS  has no failures\n"
     ]
    }
   ],
   "source": [
    "models = data.model.unique()\n",
    "for m in models: \n",
    "    try: \n",
    "        print(\"The model, \", m, \" has \", data[data[\"model\"]==m].failure.value_counts()[1], \" failures\")\n",
    "    except KeyError:\n",
    "        print(\"The model, \", m, \" has no failures\")"
   ]
  },
  {
   "cell_type": "markdown",
   "metadata": {},
   "source": [
    "The model ST4000DM000 has the most number of failures. Lets have a look at it closer "
   ]
  },
  {
   "cell_type": "code",
   "execution_count": 7,
   "metadata": {},
   "outputs": [
    {
     "data": {
      "text/plain": [
       "Index(['date', 'serial_number', 'model', 'capacity_bytes', 'failure',\n",
       "       'smart_1_normalized', 'smart_1_raw', 'smart_2_normalized',\n",
       "       'smart_2_raw', 'smart_3_normalized', 'smart_3_raw',\n",
       "       'smart_4_normalized', 'smart_4_raw', 'smart_5_normalized',\n",
       "       'smart_5_raw', 'smart_7_normalized', 'smart_7_raw',\n",
       "       'smart_8_normalized', 'smart_8_raw', 'smart_9_normalized',\n",
       "       'smart_9_raw', 'smart_10_normalized', 'smart_10_raw',\n",
       "       'smart_11_normalized', 'smart_11_raw', 'smart_12_normalized',\n",
       "       'smart_12_raw', 'smart_13_normalized', 'smart_13_raw',\n",
       "       'smart_15_normalized', 'smart_15_raw', 'smart_22_normalized',\n",
       "       'smart_22_raw', 'smart_183_normalized', 'smart_183_raw',\n",
       "       'smart_184_normalized', 'smart_184_raw', 'smart_187_normalized',\n",
       "       'smart_187_raw', 'smart_188_normalized', 'smart_188_raw',\n",
       "       'smart_189_normalized', 'smart_189_raw', 'smart_190_normalized',\n",
       "       'smart_190_raw', 'smart_191_normalized', 'smart_191_raw',\n",
       "       'smart_192_normalized', 'smart_192_raw', 'smart_193_normalized',\n",
       "       'smart_193_raw', 'smart_194_normalized', 'smart_194_raw',\n",
       "       'smart_195_normalized', 'smart_195_raw', 'smart_196_normalized',\n",
       "       'smart_196_raw', 'smart_197_normalized', 'smart_197_raw',\n",
       "       'smart_198_normalized', 'smart_198_raw', 'smart_199_normalized',\n",
       "       'smart_199_raw', 'smart_200_normalized', 'smart_200_raw',\n",
       "       'smart_201_normalized', 'smart_201_raw', 'smart_220_normalized',\n",
       "       'smart_220_raw', 'smart_222_normalized', 'smart_222_raw',\n",
       "       'smart_223_normalized', 'smart_223_raw', 'smart_224_normalized',\n",
       "       'smart_224_raw', 'smart_225_normalized', 'smart_225_raw',\n",
       "       'smart_226_normalized', 'smart_226_raw', 'smart_240_normalized',\n",
       "       'smart_240_raw', 'smart_241_normalized', 'smart_241_raw',\n",
       "       'smart_242_normalized', 'smart_242_raw', 'smart_250_normalized',\n",
       "       'smart_250_raw', 'smart_251_normalized', 'smart_251_raw',\n",
       "       'smart_252_normalized', 'smart_252_raw', 'smart_254_normalized',\n",
       "       'smart_254_raw', 'smart_255_normalized', 'smart_255_raw'],\n",
       "      dtype='object')"
      ]
     },
     "execution_count": 7,
     "metadata": {},
     "output_type": "execute_result"
    }
   ],
   "source": [
    "## Look at all the features\n",
    "data[data[\"model\"]==\"ST4000DM000\"].columns"
   ]
  },
  {
   "cell_type": "code",
   "execution_count": 8,
   "metadata": {},
   "outputs": [
    {
     "name": "stdout",
     "output_type": "stream",
     "text": [
      "Number of raw smart features:  45\n",
      "Number of normed smart features:  45\n"
     ]
    }
   ],
   "source": [
    "## Lets look at the SMART features - only the raw ones\n",
    "smart_features_raw = [x for x in data.columns if \"smart\" in x and \"raw\" in x]\n",
    "print(\"Number of raw smart features: \", len(smart_features_raw))\n",
    "smart_features_norm = [x for x in data.columns if \"smart\" in x and \"normalized\" in x]\n",
    "print(\"Number of normed smart features: \", len(smart_features_norm))\n"
   ]
  },
  {
   "cell_type": "code",
   "execution_count": 9,
   "metadata": {},
   "outputs": [
    {
     "name": "stdout",
     "output_type": "stream",
     "text": [
      "3179295\n"
     ]
    },
    {
     "data": {
      "text/plain": [
       "3179295"
      ]
     },
     "execution_count": 9,
     "metadata": {},
     "output_type": "execute_result"
    }
   ],
   "source": [
    "type(data.smart_199_raw)\n",
    "len(data.smart_199_raw), data.shape[0]\n",
    "print(data.smart_199_raw.shape[0])\n",
    "data.smart_199_raw.name\n",
    "data.smart_255_raw.isnull().sum()"
   ]
  },
  {
   "cell_type": "code",
   "execution_count": 10,
   "metadata": {},
   "outputs": [],
   "source": [
    "def howmanynulls(a, df=None):\n",
    "    if type(a) != list: \n",
    "        print(\"% of null in \", a.name, \" is \", a.isnull().sum()/a.shape[0] * 100) \n",
    "    elif type(a) == list:\n",
    "        for a1 in a:\n",
    "            howmanynulls(df[a1])\n",
    "    "
   ]
  },
  {
   "cell_type": "code",
   "execution_count": 11,
   "metadata": {},
   "outputs": [
    {
     "name": "stdout",
     "output_type": "stream",
     "text": [
      "% of null in  smart_255_raw  is  100.0\n",
      "% of null in  smart_1_raw  is  0.0\n",
      "% of null in  smart_2_raw  is  60.3963142772\n",
      "% of null in  smart_3_raw  is  0.0\n",
      "% of null in  smart_4_raw  is  0.0\n",
      "% of null in  smart_5_raw  is  0.0\n",
      "% of null in  smart_7_raw  is  0.0\n",
      "% of null in  smart_8_raw  is  60.3961255561\n",
      "% of null in  smart_9_raw  is  0.0\n",
      "% of null in  smart_10_raw  is  0.0\n",
      "% of null in  smart_11_raw  is  95.382183786\n",
      "% of null in  smart_12_raw  is  0.0\n",
      "% of null in  smart_13_raw  is  99.9998112789\n",
      "% of null in  smart_15_raw  is  100.0\n",
      "% of null in  smart_22_raw  is  99.9263987771\n",
      "% of null in  smart_183_raw  is  43.4007539407\n",
      "% of null in  smart_184_raw  is  43.1787235849\n",
      "% of null in  smart_187_raw  is  43.1787235849\n",
      "% of null in  smart_188_raw  is  0.0\n",
      "% of null in  smart_189_raw  is  43.1805478888\n",
      "% of null in  smart_190_raw  is  43.1780316076\n",
      "% of null in  smart_191_raw  is  41.843899355\n",
      "% of null in  smart_192_raw  is  0.301356118259\n",
      "% of null in  smart_193_raw  is  1.34231016625\n",
      "% of null in  smart_194_raw  is  0.00163558273139\n",
      "% of null in  smart_195_raw  is  95.0365725735\n",
      "% of null in  smart_196_raw  is  56.8194521112\n",
      "% of null in  smart_197_raw  is  0.0\n",
      "% of null in  smart_198_raw  is  0.0\n",
      "% of null in  smart_199_raw  is  0.0\n",
      "% of null in  smart_200_raw  is  95.382183786\n",
      "% of null in  smart_201_raw  is  99.9998112789\n",
      "% of null in  smart_220_raw  is  99.6882956756\n",
      "% of null in  smart_222_raw  is  99.6882956756\n",
      "% of null in  smart_223_raw  is  98.6473416276\n",
      "% of null in  smart_224_raw  is  99.6882956756\n",
      "% of null in  smart_225_raw  is  98.959045952\n",
      "% of null in  smart_226_raw  is  99.6882956756\n",
      "% of null in  smart_240_raw  is  0.0\n",
      "% of null in  smart_241_raw  is  0.0\n",
      "% of null in  smart_242_raw  is  0.0\n",
      "% of null in  smart_250_raw  is  99.9108292876\n",
      "% of null in  smart_251_raw  is  99.9108292876\n",
      "% of null in  smart_252_raw  is  99.9108292876\n",
      "% of null in  smart_254_raw  is  99.7504163659\n",
      "% of null in  smart_255_raw  is  100.0\n"
     ]
    }
   ],
   "source": [
    "howmanynulls(data.smart_255_raw)\n",
    "howmanynulls(smart_features_raw, df=data)"
   ]
  },
  {
   "cell_type": "code",
   "execution_count": 12,
   "metadata": {},
   "outputs": [
    {
     "name": "stdout",
     "output_type": "stream",
     "text": [
      "% of null in  smart_1_normalized  is  0.0\n",
      "% of null in  smart_2_normalized  is  60.3963142772\n",
      "% of null in  smart_3_normalized  is  0.0\n",
      "% of null in  smart_4_normalized  is  0.0\n",
      "% of null in  smart_5_normalized  is  0.0\n",
      "% of null in  smart_7_normalized  is  0.0\n",
      "% of null in  smart_8_normalized  is  60.3961255561\n",
      "% of null in  smart_9_normalized  is  0.0\n",
      "% of null in  smart_10_normalized  is  0.0\n",
      "% of null in  smart_11_normalized  is  95.382183786\n",
      "% of null in  smart_12_normalized  is  0.0\n",
      "% of null in  smart_13_normalized  is  99.9998112789\n",
      "% of null in  smart_15_normalized  is  100.0\n",
      "% of null in  smart_22_normalized  is  99.9263987771\n",
      "% of null in  smart_183_normalized  is  43.4007539407\n",
      "% of null in  smart_184_normalized  is  43.1787235849\n",
      "% of null in  smart_187_normalized  is  43.1787235849\n",
      "% of null in  smart_188_normalized  is  43.1787235849\n",
      "% of null in  smart_189_normalized  is  43.1805478888\n",
      "% of null in  smart_190_normalized  is  43.1780316076\n",
      "% of null in  smart_191_normalized  is  41.843899355\n",
      "% of null in  smart_192_normalized  is  0.301356118259\n",
      "% of null in  smart_193_normalized  is  1.34231016625\n",
      "% of null in  smart_194_normalized  is  0.00163558273139\n",
      "% of null in  smart_195_normalized  is  95.0365725735\n",
      "% of null in  smart_196_normalized  is  56.8194521112\n",
      "% of null in  smart_197_normalized  is  0.0\n",
      "% of null in  smart_198_normalized  is  0.0\n",
      "% of null in  smart_199_normalized  is  0.0\n",
      "% of null in  smart_200_normalized  is  95.382183786\n",
      "% of null in  smart_201_normalized  is  99.9998112789\n",
      "% of null in  smart_220_normalized  is  99.6882956756\n",
      "% of null in  smart_222_normalized  is  99.6882956756\n",
      "% of null in  smart_223_normalized  is  98.6473416276\n",
      "% of null in  smart_224_normalized  is  99.6882956756\n",
      "% of null in  smart_225_normalized  is  98.959045952\n",
      "% of null in  smart_226_normalized  is  99.6882956756\n",
      "% of null in  smart_240_normalized  is  42.8658869341\n",
      "% of null in  smart_241_normalized  is  43.2693726125\n",
      "% of null in  smart_242_normalized  is  43.2693726125\n",
      "% of null in  smart_250_normalized  is  99.9108292876\n",
      "% of null in  smart_251_normalized  is  99.9108292876\n",
      "% of null in  smart_252_normalized  is  99.9108292876\n",
      "% of null in  smart_254_normalized  is  99.7504163659\n",
      "% of null in  smart_255_normalized  is  100.0\n"
     ]
    }
   ],
   "source": [
    "howmanynulls(smart_features_norm, df=data)"
   ]
  },
  {
   "cell_type": "markdown",
   "metadata": {},
   "source": [
    "So it turns out some of the features are just null - no matter what type of hard drive it is. \n",
    "\n",
    "In which case, maybe we can get rid of those.\n",
    "So the ones to get rid of are: \n",
    "200, 201, 220, 222, 223, 224,225, 226, 250, 251,252, 254, 255, \n",
    "195, 22, 11\n",
    "\n"
   ]
  },
  {
   "cell_type": "code",
   "execution_count": 13,
   "metadata": {},
   "outputs": [],
   "source": [
    "for i in [200, 201, 220, 222, 223, 224,225, 226, 250, 251,252, 254, 255, 195, 22, 11]:\n",
    "    try:\n",
    "        smart_features_raw.remove('smart_'+str(i)+'_raw')\n",
    "    except ValueError: \n",
    "        print(\"Index not found: \", i)\n",
    "    \n"
   ]
  },
  {
   "cell_type": "code",
   "execution_count": 14,
   "metadata": {},
   "outputs": [
    {
     "data": {
      "text/plain": [
       "['smart_1_raw',\n",
       " 'smart_2_raw',\n",
       " 'smart_3_raw',\n",
       " 'smart_4_raw',\n",
       " 'smart_5_raw',\n",
       " 'smart_7_raw',\n",
       " 'smart_8_raw',\n",
       " 'smart_9_raw',\n",
       " 'smart_10_raw',\n",
       " 'smart_12_raw',\n",
       " 'smart_13_raw',\n",
       " 'smart_15_raw',\n",
       " 'smart_183_raw',\n",
       " 'smart_184_raw',\n",
       " 'smart_187_raw',\n",
       " 'smart_188_raw',\n",
       " 'smart_189_raw',\n",
       " 'smart_190_raw',\n",
       " 'smart_191_raw',\n",
       " 'smart_192_raw',\n",
       " 'smart_193_raw',\n",
       " 'smart_194_raw',\n",
       " 'smart_196_raw',\n",
       " 'smart_197_raw',\n",
       " 'smart_198_raw',\n",
       " 'smart_199_raw',\n",
       " 'smart_240_raw',\n",
       " 'smart_241_raw',\n",
       " 'smart_242_raw']"
      ]
     },
     "execution_count": 14,
     "metadata": {},
     "output_type": "execute_result"
    }
   ],
   "source": [
    "smart_features_raw"
   ]
  },
  {
   "cell_type": "code",
   "execution_count": 15,
   "metadata": {},
   "outputs": [],
   "source": [
    "def mmm(a, df=None):\n",
    "    if type(a) != list:\n",
    "        print(\"For \", a.name, \"mean: \", str(a.mean()), \" median: \", str(a.median()), \" mode: \", str(a.mode()))\n",
    "    else:\n",
    "        for a1 in a:\n",
    "            mmm(df[a1])"
   ]
  },
  {
   "cell_type": "markdown",
   "metadata": {
    "collapsed": true
   },
   "source": [
    "# To do \n",
    "\n",
    "1. Make a time-series predictions for each of the features \n",
    "2. Build a survival model,\n",
    "    a. Based on the simplest features, the time survived and the status \n",
    "    b. Adding covariates into the survival model and observing their effects\n",
    "3. Based on the time series predictions of the covariates, add them to the survival model and show what difference it makes \n"
   ]
  },
  {
   "cell_type": "markdown",
   "metadata": {},
   "source": [
    "Lets restrict the data to only the ST4000DM000 model. \n",
    "Also lets us restrict the data to those serial numbers that appear most often. "
   ]
  },
  {
   "cell_type": "code",
   "execution_count": 16,
   "metadata": {},
   "outputs": [],
   "source": [
    "data = data[data[\"model\"]==\"ST4000DM000\"]"
   ]
  },
  {
   "cell_type": "code",
   "execution_count": 17,
   "metadata": {},
   "outputs": [
    {
     "data": {
      "text/plain": [
       "(array([  3.50000000e+01,   3.70000000e+01,   1.60000000e+01,\n",
       "          9.00000000e+01,   1.57000000e+02,   5.85400000e+03,\n",
       "          2.70000000e+01,   2.50000000e+01,   2.30000000e+01,\n",
       "          2.87930000e+04]),\n",
       " array([  1. ,   6.1,  11.2,  16.3,  21.4,  26.5,  31.6,  36.7,  41.8,\n",
       "         46.9,  52. ]),\n",
       " <a list of 10 Patch objects>)"
      ]
     },
     "execution_count": 17,
     "metadata": {},
     "output_type": "execute_result"
    },
    {
     "data": {
      "image/png": "[encoded data removed]",
      "text/plain": [
       "<matplotlib.figure.Figure at 0x7f29ca7c76a0>"
      ]
     },
     "metadata": {},
     "output_type": "display_data"
    }
   ],
   "source": [
    "plt.hist(data.serial_number.value_counts().values, bins=10)"
   ]
  },
  {
   "cell_type": "markdown",
   "metadata": {},
   "source": [
    "We see that the certain serial numbers are repeated a few times. There is a peak are a few serial numbers that appear ~30 times, but that would still not be enough to make a time series model. \n",
    "\n",
    "From that perspective, lets take only those serial numbers that have at least 40 entries in the data table. "
   ]
  },
  {
   "cell_type": "code",
   "execution_count": 18,
   "metadata": {},
   "outputs": [],
   "source": [
    "data = data[data.groupby('serial_number')['serial_number'].transform('size') > 40]"
   ]
  },
  {
   "cell_type": "code",
   "execution_count": 23,
   "metadata": {},
   "outputs": [
    {
     "data": {
      "text/plain": [
       "array(['Z305B2QN', 'S300Z6K9', 'S300Z6K8', ..., 'Z304HF0Q', 'Z304PCFF',\n",
       "       'Z304N8L3'], dtype=object)"
      ]
     },
     "execution_count": 23,
     "metadata": {},
     "output_type": "execute_result"
    }
   ],
   "source": [
    "data.serial_number.unique()"
   ]
  },
  {
   "cell_type": "markdown",
   "metadata": {},
   "source": [
    "Lets find the unique 4-character serial_numbers"
   ]
  },
  {
   "cell_type": "code",
   "execution_count": 50,
   "metadata": {},
   "outputs": [
    {
     "data": {
      "text/plain": [
       "'Z305'"
      ]
     },
     "execution_count": 50,
     "metadata": {},
     "output_type": "execute_result"
    }
   ],
   "source": [
    "data.serial_number.unique()[0][:4]"
   ]
  },
  {
   "cell_type": "code",
   "execution_count": 52,
   "metadata": {},
   "outputs": [],
   "source": [
    "sn_unique = []\n",
    "for sn in data.serial_number.unique():\n",
    "    if sn[:4] in sn_unique:\n",
    "        continue\n",
    "    else:\n",
    "        sn_unique.append(sn[:4])"
   ]
  },
  {
   "cell_type": "code",
   "execution_count": 53,
   "metadata": {},
   "outputs": [
    {
     "data": {
      "text/plain": [
       "['Z305', 'S300', 'Z302', 'Z304', 'Z300', 'S301', 'Z301', 'W300', 'Z303']"
      ]
     },
     "execution_count": 53,
     "metadata": {},
     "output_type": "execute_result"
    }
   ],
   "source": [
    "sn_unique"
   ]
  },
  {
   "cell_type": "code",
   "execution_count": 65,
   "metadata": {},
   "outputs": [
    {
     "data": {
      "text/plain": [
       "[<matplotlib.lines.Line2D at 0x7f29c9ca80b8>]"
      ]
     },
     "execution_count": 65,
     "metadata": {},
     "output_type": "execute_result"
    },
    {
     "data": {
      "image/png": "[encoded data removed]",
      "text/plain": [
       "<matplotlib.figure.Figure at 0x7f29c9d73160>"
      ]
     },
     "metadata": {},
     "output_type": "display_data"
    }
   ],
   "source": [
    "mask = data[data.serial_number.str.contains('^'+sn_unique[0])]\n",
    "plt.plot(mask.smart_9_raw/24., mask.smart_190_raw)"
   ]
  },
  {
   "cell_type": "code",
   "execution_count": 37,
   "metadata": {},
   "outputs": [
    {
     "data": {
      "text/plain": [
       "290"
      ]
     },
     "execution_count": 37,
     "metadata": {},
     "output_type": "execute_result"
    }
   ],
   "source": [
    "data[data.serial_number.str.contains('^Z304N')].serial_number.value_counts().sum()"
   ]
  },
  {
   "cell_type": "code",
   "execution_count": 32,
   "metadata": {},
   "outputs": [
    {
     "data": {
      "text/plain": [
       "194199"
      ]
     },
     "execution_count": 32,
     "metadata": {},
     "output_type": "execute_result"
    }
   ],
   "source": [
    "data[data.serial_number.str.contains('^S300')].serial_number.value_counts().sum()"
   ]
  },
  {
   "cell_type": "code",
   "execution_count": 57,
   "metadata": {},
   "outputs": [
    {
     "ename": "AttributeError",
     "evalue": "Cannot access attribute 'values' of 'SeriesGroupBy' objects, try using the 'apply' method",
     "output_type": "error",
     "traceback": [
      "\u001b[0;31m---------------------------------------------------------------------------\u001b[0m",
      "\u001b[0;31mAttributeError\u001b[0m                            Traceback (most recent call last)",
      "\u001b[0;32m<ipython-input-57-e3f6c999f25d>\u001b[0m in \u001b[0;36m<module>\u001b[0;34m()\u001b[0m\n\u001b[0;32m----> 1\u001b[0;31m \u001b[0mdata\u001b[0m\u001b[0;34m.\u001b[0m\u001b[0mgroupby\u001b[0m\u001b[0;34m(\u001b[0m\u001b[0mdata\u001b[0m\u001b[0;34m.\u001b[0m\u001b[0mserial_number\u001b[0m\u001b[0;34m.\u001b[0m\u001b[0mstr\u001b[0m\u001b[0;34m.\u001b[0m\u001b[0mcontains\u001b[0m\u001b[0;34m(\u001b[0m\u001b[0;34m'^S300'\u001b[0m\u001b[0;34m)\u001b[0m\u001b[0;34m)\u001b[0m\u001b[0;34m.\u001b[0m\u001b[0msmart_9_raw\u001b[0m\u001b[0;34m.\u001b[0m\u001b[0mvalues\u001b[0m\u001b[0;34m\u001b[0m\u001b[0m\n\u001b[0m",
      "\u001b[0;32m/usr/local/lib/python3.5/dist-packages/pandas/core/groupby.py\u001b[0m in \u001b[0;36m__getattr__\u001b[0;34m(self, attr)\u001b[0m\n\u001b[1;32m    671\u001b[0m             \u001b[0;32mreturn\u001b[0m \u001b[0mself\u001b[0m\u001b[0;34m[\u001b[0m\u001b[0mattr\u001b[0m\u001b[0;34m]\u001b[0m\u001b[0;34m\u001b[0m\u001b[0m\n\u001b[1;32m    672\u001b[0m         \u001b[0;32mif\u001b[0m \u001b[0mhasattr\u001b[0m\u001b[0;34m(\u001b[0m\u001b[0mself\u001b[0m\u001b[0;34m.\u001b[0m\u001b[0mobj\u001b[0m\u001b[0;34m,\u001b[0m \u001b[0mattr\u001b[0m\u001b[0;34m)\u001b[0m\u001b[0;34m:\u001b[0m\u001b[0;34m\u001b[0m\u001b[0m\n\u001b[0;32m--> 673\u001b[0;31m             \u001b[0;32mreturn\u001b[0m \u001b[0mself\u001b[0m\u001b[0;34m.\u001b[0m\u001b[0m_make_wrapper\u001b[0m\u001b[0;34m(\u001b[0m\u001b[0mattr\u001b[0m\u001b[0;34m)\u001b[0m\u001b[0;34m\u001b[0m\u001b[0m\n\u001b[0m\u001b[1;32m    674\u001b[0m \u001b[0;34m\u001b[0m\u001b[0m\n\u001b[1;32m    675\u001b[0m         raise AttributeError(\"%r object has no attribute %r\" %\n",
      "\u001b[0;32m/usr/local/lib/python3.5/dist-packages/pandas/core/groupby.py\u001b[0m in \u001b[0;36m_make_wrapper\u001b[0;34m(self, name)\u001b[0m\n\u001b[1;32m    685\u001b[0m                    \"using the 'apply' method\".format(kind, name,\n\u001b[1;32m    686\u001b[0m                                                      type(self).__name__))\n\u001b[0;32m--> 687\u001b[0;31m             \u001b[0;32mraise\u001b[0m \u001b[0mAttributeError\u001b[0m\u001b[0;34m(\u001b[0m\u001b[0mmsg\u001b[0m\u001b[0;34m)\u001b[0m\u001b[0;34m\u001b[0m\u001b[0m\n\u001b[0m\u001b[1;32m    688\u001b[0m \u001b[0;34m\u001b[0m\u001b[0m\n\u001b[1;32m    689\u001b[0m         \u001b[0;31m# need to setup the selection\u001b[0m\u001b[0;34m\u001b[0m\u001b[0;34m\u001b[0m\u001b[0m\n",
      "\u001b[0;31mAttributeError\u001b[0m: Cannot access attribute 'values' of 'SeriesGroupBy' objects, try using the 'apply' method"
     ]
    }
   ],
   "source": [
    "data.groupby(data.serial_number.str.contains('^S300')).smart_9_raw"
   ]
  }
 ],
 "metadata": {
  "kernelspec": {
   "display_name": "Python 3",
   "language": "python",
   "name": "python3"
  },
  "language_info": {
   "codemirror_mode": {
    "name": "ipython",
    "version": 3
   },
   "file_extension": ".py",
   "mimetype": "text/x-python",
   "name": "python",
   "nbconvert_exporter": "python",
   "pygments_lexer": "ipython3",
   "version": "3.5.2"
  }
 },
 "nbformat": 4,
 "nbformat_minor": 2
}
