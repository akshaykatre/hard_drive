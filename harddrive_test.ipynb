{
 "cells": [
  {
   "cell_type": "code",
   "execution_count": 2,
   "metadata": {
    "collapsed": true
   },
   "outputs": [],
   "source": [
    "import pandas as pd\n",
    "import numpy as np\n",
    "from matplotlib import pyplot as plt \n",
    "\n",
    "%matplotlib inline"
   ]
  },
  {
   "cell_type": "code",
   "execution_count": 5,
   "metadata": {
    "collapsed": true
   },
   "outputs": [],
   "source": [
    "data = pd.read_csv(\"ST4000DM000.csv\")"
   ]
  },
  {
   "cell_type": "code",
   "execution_count": 7,
   "metadata": {},
   "outputs": [
    {
     "data": {
      "text/plain": [
       "Index(['Unnamed: 0', 'date', 'serial_number', 'model', 'capacity_bytes',\n",
       "       'failure', 'smart_1_normalized', 'smart_1_raw', 'smart_2_normalized',\n",
       "       'smart_2_raw', 'smart_3_normalized', 'smart_3_raw',\n",
       "       'smart_4_normalized', 'smart_4_raw', 'smart_5_normalized',\n",
       "       'smart_5_raw', 'smart_7_normalized', 'smart_7_raw',\n",
       "       'smart_8_normalized', 'smart_8_raw', 'smart_9_normalized',\n",
       "       'smart_9_raw', 'smart_10_normalized', 'smart_10_raw',\n",
       "       'smart_11_normalized', 'smart_11_raw', 'smart_12_normalized',\n",
       "       'smart_12_raw', 'smart_13_normalized', 'smart_13_raw',\n",
       "       'smart_15_normalized', 'smart_15_raw', 'smart_22_normalized',\n",
       "       'smart_22_raw', 'smart_183_normalized', 'smart_183_raw',\n",
       "       'smart_184_normalized', 'smart_184_raw', 'smart_187_normalized',\n",
       "       'smart_187_raw', 'smart_188_normalized', 'smart_188_raw',\n",
       "       'smart_189_normalized', 'smart_189_raw', 'smart_190_normalized',\n",
       "       'smart_190_raw', 'smart_191_normalized', 'smart_191_raw',\n",
       "       'smart_192_normalized', 'smart_192_raw', 'smart_193_normalized',\n",
       "       'smart_193_raw', 'smart_194_normalized', 'smart_194_raw',\n",
       "       'smart_195_normalized', 'smart_195_raw', 'smart_196_normalized',\n",
       "       'smart_196_raw', 'smart_197_normalized', 'smart_197_raw',\n",
       "       'smart_198_normalized', 'smart_198_raw', 'smart_199_normalized',\n",
       "       'smart_199_raw', 'smart_200_normalized', 'smart_200_raw',\n",
       "       'smart_201_normalized', 'smart_201_raw', 'smart_220_normalized',\n",
       "       'smart_220_raw', 'smart_222_normalized', 'smart_222_raw',\n",
       "       'smart_223_normalized', 'smart_223_raw', 'smart_224_normalized',\n",
       "       'smart_224_raw', 'smart_225_normalized', 'smart_225_raw',\n",
       "       'smart_226_normalized', 'smart_226_raw', 'smart_240_normalized',\n",
       "       'smart_240_raw', 'smart_241_normalized', 'smart_241_raw',\n",
       "       'smart_242_normalized', 'smart_242_raw', 'smart_250_normalized',\n",
       "       'smart_250_raw', 'smart_251_normalized', 'smart_251_raw',\n",
       "       'smart_252_normalized', 'smart_252_raw', 'smart_254_normalized',\n",
       "       'smart_254_raw', 'smart_255_normalized', 'smart_255_raw'],\n",
       "      dtype='object')"
      ]
     },
     "execution_count": 7,
     "metadata": {},
     "output_type": "execute_result"
    }
   ],
   "source": [
    "data.columns"
   ]
  },
  {
   "cell_type": "code",
   "execution_count": 12,
   "metadata": {},
   "outputs": [
    {
     "name": "stdout",
     "output_type": "stream",
     "text": [
      "['smart_1_raw', 'smart_2_raw', 'smart_3_raw', 'smart_4_raw', 'smart_5_raw', 'smart_7_raw', 'smart_8_raw', 'smart_9_raw', 'smart_10_raw', 'smart_11_raw', 'smart_12_raw', 'smart_13_raw', 'smart_15_raw', 'smart_22_raw', 'smart_183_raw', 'smart_184_raw', 'smart_187_raw', 'smart_188_raw', 'smart_189_raw', 'smart_190_raw', 'smart_191_raw', 'smart_192_raw', 'smart_193_raw', 'smart_194_raw', 'smart_195_raw', 'smart_196_raw', 'smart_197_raw', 'smart_198_raw', 'smart_199_raw', 'smart_200_raw', 'smart_201_raw', 'smart_220_raw', 'smart_222_raw', 'smart_223_raw', 'smart_224_raw', 'smart_225_raw', 'smart_226_raw', 'smart_240_raw', 'smart_241_raw', 'smart_242_raw', 'smart_250_raw', 'smart_251_raw', 'smart_252_raw', 'smart_254_raw', 'smart_255_raw']\n"
     ]
    }
   ],
   "source": [
    "interesting = [x for x in data.columns if 'smart' in x and 'raw' in x]\n",
    "print(interesting)"
   ]
  },
  {
   "cell_type": "code",
   "execution_count": 37,
   "metadata": {},
   "outputs": [
    {
     "ename": "TypeError",
     "evalue": "list indices must be integers or slices, not str",
     "output_type": "error",
     "traceback": [
      "\u001b[0;31m---------------------------------------------------------------------------\u001b[0m",
      "\u001b[0;31mTypeError\u001b[0m                                 Traceback (most recent call last)",
      "\u001b[0;32m<ipython-input-37-453cc52fa517>\u001b[0m in \u001b[0;36m<module>\u001b[0;34m()\u001b[0m\n\u001b[1;32m      1\u001b[0m \u001b[0;32mfor\u001b[0m \u001b[0minter\u001b[0m \u001b[0;32min\u001b[0m \u001b[0minteresting\u001b[0m\u001b[0;34m:\u001b[0m\u001b[0;34m\u001b[0m\u001b[0m\n\u001b[1;32m      2\u001b[0m     \u001b[0mfig\u001b[0m \u001b[0;34m=\u001b[0m \u001b[0mplt\u001b[0m\u001b[0;34m.\u001b[0m\u001b[0mfigure\u001b[0m\u001b[0;34m(\u001b[0m\u001b[0mfigsize\u001b[0m\u001b[0;34m=\u001b[0m\u001b[0;34m(\u001b[0m\u001b[0;36m12\u001b[0m\u001b[0;34m,\u001b[0m\u001b[0;36m6\u001b[0m\u001b[0;34m)\u001b[0m\u001b[0;34m)\u001b[0m\u001b[0;34m\u001b[0m\u001b[0m\n\u001b[0;32m----> 3\u001b[0;31m     \u001b[0;32mif\u001b[0m \u001b[0;32mnot\u001b[0m \u001b[0minteresting\u001b[0m\u001b[0;34m[\u001b[0m\u001b[0minter\u001b[0m\u001b[0;34m]\u001b[0m\u001b[0;34m.\u001b[0m\u001b[0misnull\u001b[0m\u001b[0;34m(\u001b[0m\u001b[0;34m)\u001b[0m\u001b[0;34m:\u001b[0m\u001b[0;34m\u001b[0m\u001b[0m\n\u001b[0m\u001b[1;32m      4\u001b[0m         \u001b[0mplt\u001b[0m\u001b[0;34m.\u001b[0m\u001b[0mhist\u001b[0m\u001b[0;34m(\u001b[0m\u001b[0mdata\u001b[0m\u001b[0;34m[\u001b[0m\u001b[0minter\u001b[0m\u001b[0;34m]\u001b[0m\u001b[0;34m,\u001b[0m \u001b[0mbins\u001b[0m\u001b[0;34m=\u001b[0m\u001b[0;36m10\u001b[0m\u001b[0;34m)\u001b[0m\u001b[0;34m\u001b[0m\u001b[0m\n\u001b[1;32m      5\u001b[0m \u001b[0;34m\u001b[0m\u001b[0m\n",
      "\u001b[0;31mTypeError\u001b[0m: list indices must be integers or slices, not str"
     ]
    },
    {
     "data": {
      "text/plain": [
       "<matplotlib.figure.Figure at 0x7f4510743320>"
      ]
     },
     "metadata": {},
     "output_type": "display_data"
    }
   ],
   "source": [
    "for inter in interesting:\n",
    "    fig = plt.figure(figsize=(12,6))\n",
    "    if not interesting[inter].isnull():\n",
    "        plt.hist(data[inter], bins=10)\n",
    "    "
   ]
  },
  {
   "cell_type": "code",
   "execution_count": 36,
   "metadata": {},
   "outputs": [
    {
     "data": {
      "text/plain": [
       "0          True\n",
       "1          True\n",
       "2          True\n",
       "3          True\n",
       "4          True\n",
       "5          True\n",
       "6          True\n",
       "7          True\n",
       "8          True\n",
       "9          True\n",
       "10         True\n",
       "11         True\n",
       "12         True\n",
       "13         True\n",
       "14         True\n",
       "15         True\n",
       "16         True\n",
       "17         True\n",
       "18         True\n",
       "19         True\n",
       "20         True\n",
       "21         True\n",
       "22         True\n",
       "23         True\n",
       "24         True\n",
       "25         True\n",
       "26         True\n",
       "27         True\n",
       "28         True\n",
       "29         True\n",
       "           ... \n",
       "1681443    True\n",
       "1681444    True\n",
       "1681445    True\n",
       "1681446    True\n",
       "1681447    True\n",
       "1681448    True\n",
       "1681449    True\n",
       "1681450    True\n",
       "1681451    True\n",
       "1681452    True\n",
       "1681453    True\n",
       "1681454    True\n",
       "1681455    True\n",
       "1681456    True\n",
       "1681457    True\n",
       "1681458    True\n",
       "1681459    True\n",
       "1681460    True\n",
       "1681461    True\n",
       "1681462    True\n",
       "1681463    True\n",
       "1681464    True\n",
       "1681465    True\n",
       "1681466    True\n",
       "1681467    True\n",
       "1681468    True\n",
       "1681469    True\n",
       "1681470    True\n",
       "1681471    True\n",
       "1681472    True\n",
       "Name: smart_2_raw, Length: 1681473, dtype: bool"
      ]
     },
     "execution_count": 36,
     "metadata": {},
     "output_type": "execute_result"
    }
   ],
   "source": [
    "data[interesting[1]].isnull()"
   ]
  }
 ],
 "metadata": {
  "kernelspec": {
   "display_name": "Python 3",
   "language": "python",
   "name": "python3"
  },
  "language_info": {
   "codemirror_mode": {
    "name": "ipython",
    "version": 3
   },
   "file_extension": ".py",
   "mimetype": "text/x-python",
   "name": "python",
   "nbconvert_exporter": "python",
   "pygments_lexer": "ipython3",
   "version": "3.5.2"
  }
 },
 "nbformat": 4,
 "nbformat_minor": 2
}
